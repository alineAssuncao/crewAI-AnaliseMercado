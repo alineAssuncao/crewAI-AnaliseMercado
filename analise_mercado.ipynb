{
 "cells": [
  {
   "cell_type": "code",
   "execution_count": 31,
   "id": "2d030b85",
   "metadata": {},
   "outputs": [
    {
     "data": {
      "text/plain": [
       "True"
      ]
     },
     "execution_count": 31,
     "metadata": {},
     "output_type": "execute_result"
    }
   ],
   "source": [
    "from dotenv import load_dotenv, find_dotenv\n",
    "load_dotenv(find_dotenv())"
   ]
  },
  {
   "cell_type": "code",
   "execution_count": 32,
   "id": "d17628a6",
   "metadata": {},
   "outputs": [],
   "source": [
    "from crewai import Agent, Task, Crew"
   ]
  },
  {
   "cell_type": "markdown",
   "id": "1b6c9969",
   "metadata": {},
   "source": [
    "# Agentes\n",
    "\n",
    "- Pesquisador de mercado\n",
    "- Analista de tendencias\n",
    "- Redator do relatório"
   ]
  },
  {
   "cell_type": "code",
   "execution_count": 33,
   "id": "c9090bab",
   "metadata": {},
   "outputs": [],
   "source": [
    "pesquisador = Agent(\n",
    "    role=\"Pesquisador de mercado\",\n",
    "    goal=\"Coletar e organizar informações relevantes sobre {sector}\",\n",
    "    backstory=\"\"\"\n",
    "    Você é um pesquisador experiente que analisa as tendencias de mercado e coleta\n",
    "    dados relevantes sobre {sector}. Seu trabalho é garantir que todas as informações estejam atualizadas e bem documentadas.\n",
    "    \"\"\",\n",
    "    allow_delegation=False,\n",
    "    verbose=True\n",
    ")"
   ]
  },
  {
   "cell_type": "code",
   "execution_count": 34,
   "id": "d2b03629",
   "metadata": {},
   "outputs": [],
   "source": [
    "analista = Agent(\n",
    "    role=\"Analista de tendências\",\n",
    "    goal=\"Analisar os dados do setor {sector} e identificar padrões e oportunidades\",\n",
    "    backstory=\"\"\"\n",
    "    Você é um analista de mercado que examina os dados coletados para identificar \n",
    "    tendências emergentes, oportunidades e ameaças no setor {sector}\n",
    "    \"\"\",\n",
    "    allow_delegation=False,\n",
    "    verbose=True\n",
    ")"
   ]
  },
  {
   "cell_type": "code",
   "execution_count": 35,
   "id": "7f8757e9",
   "metadata": {},
   "outputs": [],
   "source": [
    "redator = Agent(\n",
    "    role=\"Redador de relatórios\",\n",
    "    goal=\"Elaborar um relatório consolidado sobre a análise de mercado do setor {sector}\",\n",
    "    backstory=\"\"\"\n",
    "    Você é um redator profissional que transforma analises de mercado em um relatório\n",
    "    estruturado e compreensivel para tomadores de decisão\n",
    "    \"\"\",\n",
    "    allow_delegation=False,\n",
    "    verbose=True\n",
    ")"
   ]
  },
  {
   "cell_type": "code",
   "execution_count": 36,
   "id": "bd35b405",
   "metadata": {},
   "outputs": [],
   "source": [
    "coleta_dados = Task(\n",
    "    description=(\n",
    "        \"1. Pesquisar e coletar informações relevantes sobre o setor {sector}\"\n",
    "        \"2. Identificar os principais players, tendencias e estatisticas do setor\"\n",
    "        \"3. Organizar os dados de forma clara para analise\"\n",
    "    ),\n",
    "    expected_output=\"Um documento estruturado contendo dados de mercado sobre {sector}\",\n",
    "    agent=pesquisador\n",
    ")\n"
   ]
  },
  {
   "cell_type": "code",
   "execution_count": 37,
   "id": "7d8cf6b1",
   "metadata": {},
   "outputs": [],
   "source": [
    "analise_tendencia = Task(\n",
    "    description=(\n",
    "        \"1. Examinar os dados coletados pelo Pesquisador de mercado\"\n",
    "        \"2. Identificar padrões, tendencias emergentes e oportunidades no setor {sector}\"\n",
    "        \"3. Elaborar uma analise detalhada destacando os principais pontos\"\n",
    "    ),\n",
    "    expected_output=\"Um relatório com insights e tendencias baseados nos dados do setor {sextor}\",\n",
    "    agent=analista\n",
    ")\n"
   ]
  },
  {
   "cell_type": "code",
   "execution_count": 38,
   "id": "0af5ebf2",
   "metadata": {},
   "outputs": [],
   "source": [
    "redacao_relatorio = Task(\n",
    "    description=(\n",
    "        \"1. Usar a analise de tendências para criar um relatório detalhado sobre {sector}\"\n",
    "        \"2. Garantir que o relatório seja bem estruturado e compreensivel\"\n",
    "        \"3. Apresentar um resumo executivo e recomendações finais\"\n",
    "    ),\n",
    "    expected_output=\"Um relatório de analise de mercado em formato Markdown, pronto para leitura e apresentação.\",\n",
    "    agent=redator\n",
    ")\n"
   ]
  },
  {
   "cell_type": "code",
   "execution_count": 39,
   "id": "6dcd23b8",
   "metadata": {},
   "outputs": [
    {
     "name": "stderr",
     "output_type": "stream",
     "text": [
      "Overriding of current TracerProvider is not allowed\n"
     ]
    }
   ],
   "source": [
    "crew = Crew(\n",
    "    agents=[pesquisador, analista, redator],\n",
    "    tasks=[coleta_dados, analise_tendencia, redacao_relatorio],\n",
    "    verbose=True\n",
    ")"
   ]
  },
  {
   "cell_type": "code",
   "execution_count": 40,
   "id": "4513fce7",
   "metadata": {},
   "outputs": [
    {
     "data": {
      "text/plain": [
       "Crew(id=391d5b03-6183-41a0-b867-2573866844ff, process=Process.sequential, number_of_agents=3, number_of_tasks=3)"
      ]
     },
     "execution_count": 40,
     "metadata": {},
     "output_type": "execute_result"
    }
   ],
   "source": [
    "crew"
   ]
  },
  {
   "cell_type": "code",
   "execution_count": 41,
   "id": "e113652f",
   "metadata": {},
   "outputs": [
    {
     "name": "stdout",
     "output_type": "stream",
     "text": [
      "\u001b[1m\u001b[95m# Agent:\u001b[00m \u001b[1m\u001b[92mPesquisador de mercado\u001b[00m\n",
      "\u001b[95m## Task:\u001b[00m \u001b[92m1. Pesquisar e coletar informações relevantes sobre o setor Inteligencia Artificial2. Identificar os principais players, tendencias e estatisticas do setor3. Organizar os dados de forma clara para analise\u001b[00m\n",
      "\n",
      "\n",
      "\u001b[1m\u001b[95m# Agent:\u001b[00m \u001b[1m\u001b[92mPesquisador de mercado\u001b[00m\n",
      "\u001b[95m## Final Answer:\u001b[00m \u001b[92m\n",
      "**Documento Estruturado sobre o Setor de Inteligência Artificial (IA)**\n",
      "\n",
      "**1. Introdução à Inteligência Artificial**  \n",
      "A Inteligência Artificial é a simulação de processos de inteligência humana por sistemas computacionais. No contexto atual, seu papel é cada vez mais fundamental em diversas indústrias, abrangendo desde assistentes virtuais até complexas operações de análise de dados.\n",
      "\n",
      "**2. Principais Player do Setor**  \n",
      "A seguir estão os principais players que dominam o mercado de Inteligência Artificial:\n",
      "\n",
      "- **Google AI**: Foca em aprendizado de máquina e processamento natural de linguagem (NLP).\n",
      "- **Microsoft Azure AI**: Prover ferramentas e serviços para desenvolvedores implementarem IA em suas soluções.\n",
      "- **IBM Watson**: Conhecido por suas capacidades de análise de dados e suporte à decisão, muito utilizado em saúde e finanças.\n",
      "- **OpenAI**: Famosa por desenvolver o GPT-3 e outras aplicações que integram IA em várias plataformas.\n",
      "- **NVIDIA**: Fornece hardware e software para potencializar a computação em IA, especialmente em deep learning.\n",
      "\n",
      "**3. Tendências do Setor**  \n",
      "As seguintes tendências estão emergindo no setor de IA:\n",
      "\n",
      "- **Automação Inteligente**: Aumento do uso de IA para automatizar processos empresariais, resultando em eficiência e redução de custos.\n",
      "- **A IA Explicável (XAI)**: Crescente demanda por sistemas que não apenas tomam decisões, mas também explicam suas escolhas para os usuários.\n",
      "- **Integração com IoT**: A combinação de IA com Internet das Coisas (IoT) para análise em tempo real e melhorias em processos industriais.\n",
      "- **Personalização**: Uso de IA para criar experiências personalizadas em marketing e serviços ao consumidor.\n",
      "- **Adoção em Setores Regulatórios**: Oportunidades em setores como finanças e saúde para a conformidade regulatória através de IA.\n",
      "\n",
      "**4. Estatísticas Relevantes**  \n",
      "- **Tamanho do Mercado**: O mercado global de IA foi avaliado em aproximadamente USD 62,35 bilhões em 2020 e espera-se que atinja USD 733,7 bilhões até 2027, com uma taxa de crescimento anual composta (CAGR) de 42,2%.\n",
      "- **Adoção por Indústrias**: 80% dos líderes de negócios acreditam que a IA será um fator crítico em sua estratégia de negócios até o próximo ano.\n",
      "- **Investimentos em IA**: O investimento em startups de IA cresceu para mais de USD 73 bilhões em 2021, com um aumento significativo em comparação aos anos anteriores.\n",
      "\n",
      "**5. Análise de Dados e Organização**  \n",
      "Os dados coletados podem ser organizados conforme as categorias abaixo para facilitar a análise:\n",
      "\n",
      "| Categoria                | Detalhes                                                       |\n",
      "|--------------------------|---------------------------------------------------------------|\n",
      "| Principais Players       | Google AI, Microsoft Azure AI, IBM Watson, OpenAI, NVIDIA   |\n",
      "| Tendências               | Automação Inteligente, AI Explicável, Integração com IoT     |\n",
      "| Tamanho do Mercado       | USD 62,35 bilhões em 2020; USD 733,7 bilhões até 2027       |\n",
      "| Adoção por Indústrias    | 80% de líderes acreditam que IA será crítica até 2024      |\n",
      "| Investimentos            | USD 73 bilhões em startups de IA em 2021                      |\n",
      "\n",
      "**6. Conclusão**  \n",
      "A Inteligência Artificial continua a se expandir com um impacto profundo sobre a economia global e as práticas empresariais. Com os principais players competindo por inovação, e tendências emergentes moldando o futuro da tecnologia, a pesquisa contínua e a análise de dados são essenciais para compreender e se adaptar a este setor dinâmico.\n",
      "\n",
      "**Referências**:  \n",
      "- Gartner, Inc.  \n",
      "- McKinsey & Company  \n",
      "- Statista  \n",
      "- Forbes  \n",
      "- IDC  \n",
      "\n",
      "Este documento organizado pode ser utilizado para análise detalhada e tomada de decisão em estratégias de negócios relacionadas ao setor de Inteligência Artificial.\u001b[00m\n",
      "\n",
      "\n",
      "\u001b[1m\u001b[95m# Agent:\u001b[00m \u001b[1m\u001b[92mAnalista de tendências\u001b[00m\n",
      "\u001b[95m## Task:\u001b[00m \u001b[92m1. Examinar os dados coletados pelo Pesquisador de mercado2. Identificar padrões, tendencias emergentes e oportunidades no setor Inteligencia Artificial3. Elaborar uma analise detalhada destacando os principais pontos\u001b[00m\n",
      "\n",
      "\n",
      "\u001b[1m\u001b[95m# Agent:\u001b[00m \u001b[1m\u001b[92mAnalista de tendências\u001b[00m\n",
      "\u001b[95m## Final Answer:\u001b[00m \u001b[92m\n",
      "**Relatório de Análise do Setor de Inteligência Artificial (IA)**\n",
      "\n",
      "**1. Introdução**\n",
      "A Inteligência Artificial tem se tornado uma força transformadora global, replicando funções cognitivas humanas com alta eficiência. Este relatório examina as últimas tendências, oportunidades e ameaças identificadas através da análise de dados recentes do setor.\n",
      "\n",
      "**2. Principais Players do Setor**\n",
      "Os players mais influentes que dominam o mercado de Inteligência Artificial incluem, mas não se limitam a:\n",
      "\n",
      "- **Google AI**: Um líder em aprendizado de máquina e processamento de linguagem natural (NLP), permitindo um uso mais intuitivo da tecnologia em diversas aplicações.\n",
      "- **Microsoft Azure AI**: Proporciona uma robusta plataforma de ferramentas e serviços para a implementação de IA, permitindo que desenvolvedores criem soluções personalizadas.\n",
      "- **IBM Watson**: Reconhecido por suas potentes capacidades de análise de dados, especialmente em setores críticos como saúde e finanças, onde a tomada de decisão é essencial.\n",
      "- **OpenAI**: Notável por suas inovações em IA, como o GPT-3, que facilita a compreensão de linguagem natural em múltiplas plataformas.\n",
      "- **NVIDIA**: Fundamental no suporte ao hardware e software que capacitam o deep learning, indispensável para a revolução da IA.\n",
      "\n",
      "**3. Tendências Emergentes**\n",
      "Analisando o panorama atual da IA, as seguintes tendências foram identificadas como críticas:\n",
      "\n",
      "- **Automação Inteligente**: As empresas estão cada vez mais utilizando IA para automatizar processos, resultando em custos reduzidos e eficiência operacional aprimorada.\n",
      "- **IA Explicável (XAI)**: Existe uma crescente demanda por modelos de IA que não apenas realizem previsões, mas também tenham a capacidade de justificar suas decisões, promovendo a confiança dos usuários.\n",
      "- **Integração com IoT**: A convergência da IA com a Internet das Coisas está permitindo análises em tempo real, facilitando a otimização de processos industriais e operacionais.\n",
      "- **Personalização**: O uso da IA para formar experiências sob medida está se expandindo em marketing e serviços ao consumidor, permitindo ofertas mais direcionadas e relevantes.\n",
      "- **Adoção em Setores Regulatórios**: O setor financeiro e de saúde apresenta oportunidades significativas para a implementação da IA como ferramenta para garantir conformidade com as regulamentações.\n",
      "\n",
      "**4. Estatísticas Relevantes**\n",
      "Para embasar ainda mais as análises, algumas cifras chaves foram destacadas:\n",
      "\n",
      "- O tamanho do mercado de IA foi avaliado em aproximadamente **USD 62,35 bilhões** em 2020 e projeta-se que alcance **USD 733,7 bilhões** até 2027, com uma taxa de crescimento anual composta (CAGR) de **42,2%**.\n",
      "- **80%** dos líderes de negócios afirmam que a IA será fundamental em sua estratégia até o próximo ano, confirmando sua relevância.\n",
      "- O investimento em startups de IA atingiu **USD 73 bilhões** em 2021, um crescimento significativo em comparação aos anos anteriores, indicando um ecossistema vibrante.\n",
      "\n",
      "**5. Análise de Dados e Organização**\n",
      "Os dados disponíveis foram organizados em uma tabela para facilitar a visualização e análise:\n",
      "\n",
      "| Categoria                | Detalhes                                                       |\n",
      "|--------------------------|---------------------------------------------------------------|\n",
      "| Principais Players       | Google AI, Microsoft Azure AI, IBM Watson, OpenAI, NVIDIA   |\n",
      "| Tendências               | Automação Inteligente, IA Explicável, Integração com IoT     |\n",
      "| Tamanho do Mercado       | USD 62,35 bilhões em 2020; USD 733,7 bilhões até 2027       |\n",
      "| Adoção por Indústrias    | 80% de líderes acreditam que IA será crítica até 2024      |\n",
      "| Investimentos            | USD 73 bilhões em startups de IA em 2021                      |\n",
      "\n",
      "**6. Conclusão**\n",
      "O setor de Inteligência Artificial está em plena expansão, moldando o futuro da economia e das práticas empresariais. A concorrência entre os principais players, a avaliação de novas tendências e a identificação de oportunidades são cruciais para a adaptação. Portanto, a análise contínua e o acompanhamento do panorama da IA são vitais para qualquer estratégia de negócios que busque aproveitar essas influências.\n",
      "\n",
      "**Referências**:  \n",
      "- Gartner, Inc.  \n",
      "- McKinsey & Company  \n",
      "- Statista  \n",
      "- Forbes  \n",
      "- IDC  \n",
      "\n",
      "Esse relatório fornece um insight aprofundado e abrangente sobre o estado atual e as expectativas futuras do setor de Inteligência Artificial, essencial para a formulação de estratégias informadas e inovadoras em negócios relacionados à tecnologia.\u001b[00m\n",
      "\n",
      "\n",
      "\u001b[1m\u001b[95m# Agent:\u001b[00m \u001b[1m\u001b[92mRedador de relatórios\u001b[00m\n",
      "\u001b[95m## Task:\u001b[00m \u001b[92m1. Usar a analise de tendências para criar um relatório detalhado sobre Inteligencia Artificial2. Garantir que o relatório seja bem estruturado e compreensivel3. Apresentar um resumo executivo e recomendações finais\u001b[00m\n",
      "\n",
      "\n",
      "\u001b[1m\u001b[95m# Agent:\u001b[00m \u001b[1m\u001b[92mRedador de relatórios\u001b[00m\n",
      "\u001b[95m## Final Answer:\u001b[00m \u001b[92m\n",
      "# Relatório de Análise do Setor de Inteligência Artificial (IA)\n",
      "\n",
      "## 1. Introdução\n",
      "A Inteligência Artificial tem se tornado uma força transformadora global, replicando funções cognitivas humanas com alta eficiência. Este relatório examina as últimas tendências, oportunidades e ameaças identificadas através da análise de dados recentes do setor.\n",
      "\n",
      "## 2. Principais Players do Setor\n",
      "Os players mais influentes que dominam o mercado de Inteligência Artificial incluem, mas não se limitam a:\n",
      "\n",
      "- **Google AI**: Um líder em aprendizado de máquina e processamento de linguagem natural (NLP), permitindo um uso mais intuitivo da tecnologia em diversas aplicações.\n",
      "- **Microsoft Azure AI**: Proporciona uma robusta plataforma de ferramentas e serviços para a implementação de IA, permitindo que desenvolvedores criem soluções personalizadas.\n",
      "- **IBM Watson**: Reconhecido por suas potentes capacidades de análise de dados, especialmente em setores críticos como saúde e finanças, onde a tomada de decisão é essencial.\n",
      "- **OpenAI**: Notável por suas inovações em IA, como o GPT-3, que facilita a compreensão de linguagem natural em múltiplas plataformas.\n",
      "- **NVIDIA**: Fundamental no suporte ao hardware e software que capacitam o deep learning, indispensável para a revolução da IA.\n",
      "\n",
      "## 3. Tendências Emergentes\n",
      "Analisando o panorama atual da IA, as seguintes tendências foram identificadas como críticas:\n",
      "\n",
      "- **Automação Inteligente**: As empresas estão cada vez mais utilizando IA para automatizar processos, resultando em custos reduzidos e eficiência operacional aprimorada.\n",
      "- **IA Explicável (XAI)**: Existe uma crescente demanda por modelos de IA que não apenas realizem previsões, mas também tenham a capacidade de justificar suas decisões, promovendo a confiança dos usuários.\n",
      "- **Integração com IoT**: A convergência da IA com a Internet das Coisas está permitindo análises em tempo real, facilitando a otimização de processos industriais e operacionais.\n",
      "- **Personalização**: O uso da IA para formar experiências sob medida está se expandindo em marketing e serviços ao consumidor, permitindo ofertas mais direcionadas e relevantes.\n",
      "- **Adoção em Setores Regulatórios**: O setor financeiro e de saúde apresenta oportunidades significativas para a implementação da IA como ferramenta para garantir conformidade com as regulamentações.\n",
      "\n",
      "## 4. Estatísticas Relevantes\n",
      "Para embasar ainda mais as análises, algumas cifras chaves foram destacadas:\n",
      "\n",
      "- O tamanho do mercado de IA foi avaliado em aproximadamente **USD 62,35 bilhões** em 2020 e projeta-se que alcance **USD 733,7 bilhões** até 2027, com uma taxa de crescimento anual composta (CAGR) de **42,2%**.\n",
      "- **80%** dos líderes de negócios afirmam que a IA será fundamental em sua estratégia até o próximo ano, confirmando sua relevância.\n",
      "- O investimento em startups de IA atingiu **USD 73 bilhões** em 2021, um crescimento significativo em comparação aos anos anteriores, indicando um ecossistema vibrante.\n",
      "\n",
      "## 5. Análise de Dados e Organização\n",
      "Os dados disponíveis foram organizados em uma tabela para facilitar a visualização e análise:\n",
      "\n",
      "| Categoria                | Detalhes                                                       |\n",
      "|--------------------------|---------------------------------------------------------------|\n",
      "| Principais Players       | Google AI, Microsoft Azure AI, IBM Watson, OpenAI, NVIDIA   |\n",
      "| Tendências               | Automação Inteligente, IA Explicável, Integração com IoT     |\n",
      "| Tamanho do Mercado       | USD 62,35 bilhões em 2020; USD 733,7 bilhões até 2027       |\n",
      "| Adoção por Indústrias    | 80% de líderes acreditam que IA será crítica até 2024      |\n",
      "| Investimentos            | USD 73 bilhões em startups de IA em 2021                      |\n",
      "\n",
      "## 6. Conclusão\n",
      "O setor de Inteligência Artificial está em plena expansão, moldando o futuro da economia e das práticas empresariais. A concorrência entre os principais players, a avaliação de novas tendências e a identificação de oportunidades são cruciais para a adaptação. Portanto, a análise contínua e o acompanhamento do panorama da IA são vitais para qualquer estratégia de negócios que busque aproveitar essas influências.\n",
      "\n",
      "## 7. Recomendações Finais\n",
      "- **Investir em Pesquisa e Desenvolvimento**: As empresas devem alocar recursos significativos para pesquisa e desenvolvimento em IA para inovar e se manter competitivas.\n",
      "- **Foco na Educação e Formação**: Capacitar equipes com conhecimentos em IA e suas aplicações para garantir uma correta implementação e utilização das tecnologias.\n",
      "- **Priorizar a Ética**: Com o crescimento da IA, é crucial que as empresas desenvolvam práticas éticas e transparentes ao utilizar essas tecnologias, especialmente em setores sensíveis.\n",
      "- **Acompanhar as Tendências**: Manter uma vigilância constante sobre as tendências emergentes e mudar rapidamente para capitalizar novas oportunidades no mercado.\n",
      "\n",
      "## Referências\n",
      "- Gartner, Inc.  \n",
      "- McKinsey & Company  \n",
      "- Statista  \n",
      "- Forbes  \n",
      "- IDC  \n",
      "\n",
      "Este relatório fornece um insight aprofundado e abrangente sobre o estado atual e as expectativas futuras do setor de Inteligência Artificial, essencial para a formulação de estratégias informadas e inovadoras em negócios relacionados à tecnologia.\u001b[00m\n",
      "\n",
      "\n"
     ]
    }
   ],
   "source": [
    "resultado = crew.kickoff(inputs={\"sector\": \"Inteligencia Artificial\"})"
   ]
  },
  {
   "cell_type": "code",
   "execution_count": 42,
   "id": "63dbc967",
   "metadata": {},
   "outputs": [
    {
     "name": "stdout",
     "output_type": "stream",
     "text": [
      "# Relatório de Análise do Setor de Inteligência Artificial (IA)\n",
      "\n",
      "## 1. Introdução\n",
      "A Inteligência Artificial tem se tornado uma força transformadora global, replicando funções cognitivas humanas com alta eficiência. Este relatório examina as últimas tendências, oportunidades e ameaças identificadas através da análise de dados recentes do setor.\n",
      "\n",
      "## 2. Principais Players do Setor\n",
      "Os players mais influentes que dominam o mercado de Inteligência Artificial incluem, mas não se limitam a:\n",
      "\n",
      "- **Google AI**: Um líder em aprendizado de máquina e processamento de linguagem natural (NLP), permitindo um uso mais intuitivo da tecnologia em diversas aplicações.\n",
      "- **Microsoft Azure AI**: Proporciona uma robusta plataforma de ferramentas e serviços para a implementação de IA, permitindo que desenvolvedores criem soluções personalizadas.\n",
      "- **IBM Watson**: Reconhecido por suas potentes capacidades de análise de dados, especialmente em setores críticos como saúde e finanças, onde a tomada de decisão é essencial.\n",
      "- **OpenAI**: Notável por suas inovações em IA, como o GPT-3, que facilita a compreensão de linguagem natural em múltiplas plataformas.\n",
      "- **NVIDIA**: Fundamental no suporte ao hardware e software que capacitam o deep learning, indispensável para a revolução da IA.\n",
      "\n",
      "## 3. Tendências Emergentes\n",
      "Analisando o panorama atual da IA, as seguintes tendências foram identificadas como críticas:\n",
      "\n",
      "- **Automação Inteligente**: As empresas estão cada vez mais utilizando IA para automatizar processos, resultando em custos reduzidos e eficiência operacional aprimorada.\n",
      "- **IA Explicável (XAI)**: Existe uma crescente demanda por modelos de IA que não apenas realizem previsões, mas também tenham a capacidade de justificar suas decisões, promovendo a confiança dos usuários.\n",
      "- **Integração com IoT**: A convergência da IA com a Internet das Coisas está permitindo análises em tempo real, facilitando a otimização de processos industriais e operacionais.\n",
      "- **Personalização**: O uso da IA para formar experiências sob medida está se expandindo em marketing e serviços ao consumidor, permitindo ofertas mais direcionadas e relevantes.\n",
      "- **Adoção em Setores Regulatórios**: O setor financeiro e de saúde apresenta oportunidades significativas para a implementação da IA como ferramenta para garantir conformidade com as regulamentações.\n",
      "\n",
      "## 4. Estatísticas Relevantes\n",
      "Para embasar ainda mais as análises, algumas cifras chaves foram destacadas:\n",
      "\n",
      "- O tamanho do mercado de IA foi avaliado em aproximadamente **USD 62,35 bilhões** em 2020 e projeta-se que alcance **USD 733,7 bilhões** até 2027, com uma taxa de crescimento anual composta (CAGR) de **42,2%**.\n",
      "- **80%** dos líderes de negócios afirmam que a IA será fundamental em sua estratégia até o próximo ano, confirmando sua relevância.\n",
      "- O investimento em startups de IA atingiu **USD 73 bilhões** em 2021, um crescimento significativo em comparação aos anos anteriores, indicando um ecossistema vibrante.\n",
      "\n",
      "## 5. Análise de Dados e Organização\n",
      "Os dados disponíveis foram organizados em uma tabela para facilitar a visualização e análise:\n",
      "\n",
      "| Categoria                | Detalhes                                                       |\n",
      "|--------------------------|---------------------------------------------------------------|\n",
      "| Principais Players       | Google AI, Microsoft Azure AI, IBM Watson, OpenAI, NVIDIA   |\n",
      "| Tendências               | Automação Inteligente, IA Explicável, Integração com IoT     |\n",
      "| Tamanho do Mercado       | USD 62,35 bilhões em 2020; USD 733,7 bilhões até 2027       |\n",
      "| Adoção por Indústrias    | 80% de líderes acreditam que IA será crítica até 2024      |\n",
      "| Investimentos            | USD 73 bilhões em startups de IA em 2021                      |\n",
      "\n",
      "## 6. Conclusão\n",
      "O setor de Inteligência Artificial está em plena expansão, moldando o futuro da economia e das práticas empresariais. A concorrência entre os principais players, a avaliação de novas tendências e a identificação de oportunidades são cruciais para a adaptação. Portanto, a análise contínua e o acompanhamento do panorama da IA são vitais para qualquer estratégia de negócios que busque aproveitar essas influências.\n",
      "\n",
      "## 7. Recomendações Finais\n",
      "- **Investir em Pesquisa e Desenvolvimento**: As empresas devem alocar recursos significativos para pesquisa e desenvolvimento em IA para inovar e se manter competitivas.\n",
      "- **Foco na Educação e Formação**: Capacitar equipes com conhecimentos em IA e suas aplicações para garantir uma correta implementação e utilização das tecnologias.\n",
      "- **Priorizar a Ética**: Com o crescimento da IA, é crucial que as empresas desenvolvam práticas éticas e transparentes ao utilizar essas tecnologias, especialmente em setores sensíveis.\n",
      "- **Acompanhar as Tendências**: Manter uma vigilância constante sobre as tendências emergentes e mudar rapidamente para capitalizar novas oportunidades no mercado.\n",
      "\n",
      "## Referências\n",
      "- Gartner, Inc.  \n",
      "- McKinsey & Company  \n",
      "- Statista  \n",
      "- Forbes  \n",
      "- IDC  \n",
      "\n",
      "Este relatório fornece um insight aprofundado e abrangente sobre o estado atual e as expectativas futuras do setor de Inteligência Artificial, essencial para a formulação de estratégias informadas e inovadoras em negócios relacionados à tecnologia.\n"
     ]
    }
   ],
   "source": [
    "print(resultado.raw)"
   ]
  },
  {
   "cell_type": "code",
   "execution_count": 43,
   "id": "cc91bf19",
   "metadata": {},
   "outputs": [],
   "source": [
    "from IPython.display import Markdown, display"
   ]
  },
  {
   "cell_type": "code",
   "execution_count": 44,
   "id": "34656523",
   "metadata": {},
   "outputs": [
    {
     "data": {
      "text/markdown": [
       "# Relatório de Análise do Setor de Inteligência Artificial (IA)\n",
       "\n",
       "## 1. Introdução\n",
       "A Inteligência Artificial tem se tornado uma força transformadora global, replicando funções cognitivas humanas com alta eficiência. Este relatório examina as últimas tendências, oportunidades e ameaças identificadas através da análise de dados recentes do setor.\n",
       "\n",
       "## 2. Principais Players do Setor\n",
       "Os players mais influentes que dominam o mercado de Inteligência Artificial incluem, mas não se limitam a:\n",
       "\n",
       "- **Google AI**: Um líder em aprendizado de máquina e processamento de linguagem natural (NLP), permitindo um uso mais intuitivo da tecnologia em diversas aplicações.\n",
       "- **Microsoft Azure AI**: Proporciona uma robusta plataforma de ferramentas e serviços para a implementação de IA, permitindo que desenvolvedores criem soluções personalizadas.\n",
       "- **IBM Watson**: Reconhecido por suas potentes capacidades de análise de dados, especialmente em setores críticos como saúde e finanças, onde a tomada de decisão é essencial.\n",
       "- **OpenAI**: Notável por suas inovações em IA, como o GPT-3, que facilita a compreensão de linguagem natural em múltiplas plataformas.\n",
       "- **NVIDIA**: Fundamental no suporte ao hardware e software que capacitam o deep learning, indispensável para a revolução da IA.\n",
       "\n",
       "## 3. Tendências Emergentes\n",
       "Analisando o panorama atual da IA, as seguintes tendências foram identificadas como críticas:\n",
       "\n",
       "- **Automação Inteligente**: As empresas estão cada vez mais utilizando IA para automatizar processos, resultando em custos reduzidos e eficiência operacional aprimorada.\n",
       "- **IA Explicável (XAI)**: Existe uma crescente demanda por modelos de IA que não apenas realizem previsões, mas também tenham a capacidade de justificar suas decisões, promovendo a confiança dos usuários.\n",
       "- **Integração com IoT**: A convergência da IA com a Internet das Coisas está permitindo análises em tempo real, facilitando a otimização de processos industriais e operacionais.\n",
       "- **Personalização**: O uso da IA para formar experiências sob medida está se expandindo em marketing e serviços ao consumidor, permitindo ofertas mais direcionadas e relevantes.\n",
       "- **Adoção em Setores Regulatórios**: O setor financeiro e de saúde apresenta oportunidades significativas para a implementação da IA como ferramenta para garantir conformidade com as regulamentações.\n",
       "\n",
       "## 4. Estatísticas Relevantes\n",
       "Para embasar ainda mais as análises, algumas cifras chaves foram destacadas:\n",
       "\n",
       "- O tamanho do mercado de IA foi avaliado em aproximadamente **USD 62,35 bilhões** em 2020 e projeta-se que alcance **USD 733,7 bilhões** até 2027, com uma taxa de crescimento anual composta (CAGR) de **42,2%**.\n",
       "- **80%** dos líderes de negócios afirmam que a IA será fundamental em sua estratégia até o próximo ano, confirmando sua relevância.\n",
       "- O investimento em startups de IA atingiu **USD 73 bilhões** em 2021, um crescimento significativo em comparação aos anos anteriores, indicando um ecossistema vibrante.\n",
       "\n",
       "## 5. Análise de Dados e Organização\n",
       "Os dados disponíveis foram organizados em uma tabela para facilitar a visualização e análise:\n",
       "\n",
       "| Categoria                | Detalhes                                                       |\n",
       "|--------------------------|---------------------------------------------------------------|\n",
       "| Principais Players       | Google AI, Microsoft Azure AI, IBM Watson, OpenAI, NVIDIA   |\n",
       "| Tendências               | Automação Inteligente, IA Explicável, Integração com IoT     |\n",
       "| Tamanho do Mercado       | USD 62,35 bilhões em 2020; USD 733,7 bilhões até 2027       |\n",
       "| Adoção por Indústrias    | 80% de líderes acreditam que IA será crítica até 2024      |\n",
       "| Investimentos            | USD 73 bilhões em startups de IA em 2021                      |\n",
       "\n",
       "## 6. Conclusão\n",
       "O setor de Inteligência Artificial está em plena expansão, moldando o futuro da economia e das práticas empresariais. A concorrência entre os principais players, a avaliação de novas tendências e a identificação de oportunidades são cruciais para a adaptação. Portanto, a análise contínua e o acompanhamento do panorama da IA são vitais para qualquer estratégia de negócios que busque aproveitar essas influências.\n",
       "\n",
       "## 7. Recomendações Finais\n",
       "- **Investir em Pesquisa e Desenvolvimento**: As empresas devem alocar recursos significativos para pesquisa e desenvolvimento em IA para inovar e se manter competitivas.\n",
       "- **Foco na Educação e Formação**: Capacitar equipes com conhecimentos em IA e suas aplicações para garantir uma correta implementação e utilização das tecnologias.\n",
       "- **Priorizar a Ética**: Com o crescimento da IA, é crucial que as empresas desenvolvam práticas éticas e transparentes ao utilizar essas tecnologias, especialmente em setores sensíveis.\n",
       "- **Acompanhar as Tendências**: Manter uma vigilância constante sobre as tendências emergentes e mudar rapidamente para capitalizar novas oportunidades no mercado.\n",
       "\n",
       "## Referências\n",
       "- Gartner, Inc.  \n",
       "- McKinsey & Company  \n",
       "- Statista  \n",
       "- Forbes  \n",
       "- IDC  \n",
       "\n",
       "Este relatório fornece um insight aprofundado e abrangente sobre o estado atual e as expectativas futuras do setor de Inteligência Artificial, essencial para a formulação de estratégias informadas e inovadoras em negócios relacionados à tecnologia."
      ],
      "text/plain": [
       "<IPython.core.display.Markdown object>"
      ]
     },
     "metadata": {},
     "output_type": "display_data"
    }
   ],
   "source": [
    "display(Markdown(str(resultado)))"
   ]
  },
  {
   "cell_type": "code",
   "execution_count": 46,
   "id": "0bc6a069",
   "metadata": {},
   "outputs": [],
   "source": [
    "import pdfkit\n",
    "\n",
    "with open(\"artigo.md\", \"w\", encoding=\"utf-8\") as file:\n",
    "    file.write(str(resultado))"
   ]
  },
  {
   "cell_type": "code",
   "execution_count": 47,
   "id": "0a825174",
   "metadata": {},
   "outputs": [],
   "source": [
    "import markdown\n",
    "\n",
    "html = markdown.markdown(str(resultado))\n",
    "with open(\"artigo.html\", \"w\", encoding=\"utf-8\") as file:\n",
    "    file.write(html)\n"
   ]
  }
 ],
 "metadata": {
  "kernelspec": {
   "display_name": ".crew-env (3.12.0)",
   "language": "python",
   "name": "python3"
  },
  "language_info": {
   "codemirror_mode": {
    "name": "ipython",
    "version": 3
   },
   "file_extension": ".py",
   "mimetype": "text/x-python",
   "name": "python",
   "nbconvert_exporter": "python",
   "pygments_lexer": "ipython3",
   "version": "3.12.0"
  }
 },
 "nbformat": 4,
 "nbformat_minor": 5
}
